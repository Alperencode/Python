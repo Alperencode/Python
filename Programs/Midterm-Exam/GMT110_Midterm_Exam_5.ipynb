{
 "cells": [
  {
   "cell_type": "markdown",
   "id": "5cf8a4d4",
   "metadata": {},
   "source": [
    "## TASK2 (20 pts)"
   ]
  },
  {
   "cell_type": "markdown",
   "id": "4197fb92",
   "metadata": {},
   "source": [
    "<b>For this task you are going to use two files.\n",
    "- 1)<b> First of them is the turkey_cities.csv at https://raw.githubusercontent.com/GeoTurkey/GMT_COURSES/main/turkey_cities.csv which gives the latitude and longitude information (geographic coordinates) of the city centers in Turkey.\n",
    "    \n",
    "- 2)<b> The second one is 2022_turkey_age_population.csv at https://raw.githubusercontent.com/GeoTurkey/GMT_COURSES/main/2022_turkey_age_population.csv which provides population number of different age groups in Turkey based on cities."
   ]
  },
  {
   "cell_type": "markdown",
   "id": "c1c192dd",
   "metadata": {},
   "source": [
    "### Write your answers and codes for each tasks (a-h) below. "
   ]
  },
  {
   "cell_type": "code",
   "execution_count": 51,
   "id": "bae45900",
   "metadata": {},
   "outputs": [],
   "source": [
    "# Import the necessary libraries to run the tasks.\n",
    "import pandas as pd"
   ]
  },
  {
   "cell_type": "markdown",
   "id": "08fb0483",
   "metadata": {},
   "source": [
    "- <b>a) Import these two csv files as dataframes df_1 and df_2 in order."
   ]
  },
  {
   "cell_type": "code",
   "execution_count": 52,
   "id": "af397b4b",
   "metadata": {},
   "outputs": [],
   "source": [
    "# a) Write your code here\n",
    "df1 = pd.read_csv('turkey_cities.csv')\n",
    "df2  =pd.read_csv('2022_turkey_age_population.csv')"
   ]
  },
  {
   "cell_type": "markdown",
   "id": "ba7eb961",
   "metadata": {},
   "source": [
    "- <b>b) Merge these two Pandas DataFrames on certain column using the merge function. The new merged dataframe's name must be \"df_merged\"."
   ]
  },
  {
   "cell_type": "code",
   "execution_count": 53,
   "id": "5a75718a",
   "metadata": {},
   "outputs": [
    {
     "data": {
      "text/html": [
       "<div>\n",
       "<style scoped>\n",
       "    .dataframe tbody tr th:only-of-type {\n",
       "        vertical-align: middle;\n",
       "    }\n",
       "\n",
       "    .dataframe tbody tr th {\n",
       "        vertical-align: top;\n",
       "    }\n",
       "\n",
       "    .dataframe thead th {\n",
       "        text-align: right;\n",
       "    }\n",
       "</style>\n",
       "<table border=\"1\" class=\"dataframe\">\n",
       "  <thead>\n",
       "    <tr style=\"text-align: right;\">\n",
       "      <th></th>\n",
       "      <th>City</th>\n",
       "      <th>Latitude</th>\n",
       "      <th>Longitude</th>\n",
       "      <th>Total_Population</th>\n",
       "      <th>0-14</th>\n",
       "      <th>15-65</th>\n",
       "      <th>65&lt;</th>\n",
       "    </tr>\n",
       "  </thead>\n",
       "  <tbody>\n",
       "    <tr>\n",
       "      <th>0</th>\n",
       "      <td>ADANA</td>\n",
       "      <td>36.98451</td>\n",
       "      <td>35.33368</td>\n",
       "      <td>2 274 106</td>\n",
       "      <td>539 247</td>\n",
       "      <td>1 523 411</td>\n",
       "      <td>211 448</td>\n",
       "    </tr>\n",
       "    <tr>\n",
       "      <th>1</th>\n",
       "      <td>ADIYAMAN</td>\n",
       "      <td>37.75545</td>\n",
       "      <td>38.27349</td>\n",
       "      <td>635 169</td>\n",
       "      <td>177 617</td>\n",
       "      <td>404 271</td>\n",
       "      <td>53 281</td>\n",
       "    </tr>\n",
       "    <tr>\n",
       "      <th>2</th>\n",
       "      <td>AFYONKARAHİSAR</td>\n",
       "      <td>38.75812</td>\n",
       "      <td>30.53685</td>\n",
       "      <td>747 555</td>\n",
       "      <td>155 692</td>\n",
       "      <td>503 604</td>\n",
       "      <td>88 259</td>\n",
       "    </tr>\n",
       "    <tr>\n",
       "      <th>3</th>\n",
       "      <td>AĞRI</td>\n",
       "      <td>39.71467</td>\n",
       "      <td>43.04015</td>\n",
       "      <td>510 626</td>\n",
       "      <td>168 409</td>\n",
       "      <td>314 555</td>\n",
       "      <td>27 662</td>\n",
       "    </tr>\n",
       "    <tr>\n",
       "      <th>4</th>\n",
       "      <td>AMASYA</td>\n",
       "      <td>40.65157</td>\n",
       "      <td>35.82666</td>\n",
       "      <td>338 267</td>\n",
       "      <td>59 219</td>\n",
       "      <td>226 126</td>\n",
       "      <td>52 922</td>\n",
       "    </tr>\n",
       "  </tbody>\n",
       "</table>\n",
       "</div>"
      ],
      "text/plain": [
       "             City  Latitude  Longitude Total_Population      0-14      15-65   \n",
       "0           ADANA  36.98451   35.33368        2 274 106   539 247  1 523 411  \\\n",
       "1        ADIYAMAN  37.75545   38.27349          635 169   177 617    404 271   \n",
       "2  AFYONKARAHİSAR  38.75812   30.53685          747 555   155 692    503 604   \n",
       "3            AĞRI  39.71467   43.04015          510 626   168 409    314 555   \n",
       "4          AMASYA  40.65157   35.82666          338 267    59 219    226 126   \n",
       "\n",
       "        65<  \n",
       "0   211 448  \n",
       "1    53 281  \n",
       "2    88 259  \n",
       "3    27 662  \n",
       "4    52 922  "
      ]
     },
     "execution_count": 53,
     "metadata": {},
     "output_type": "execute_result"
    }
   ],
   "source": [
    "# b) Write your code here\n",
    "df = pd.merge(df1,df2)\n",
    "df.head()"
   ]
  },
  {
   "cell_type": "markdown",
   "id": "0ba9916c",
   "metadata": {},
   "source": [
    "- <b>c) Convert the datatype of each column of this merged dataframe except the city to the numeric integer type."
   ]
  },
  {
   "cell_type": "code",
   "execution_count": 60,
   "id": "672e1afe",
   "metadata": {
    "scrolled": true
   },
   "outputs": [],
   "source": [
    "# c) Write your code here\n",
    "columnsToConvert = ['Total_Population', '0-14', '15-65', '65<']\n",
    "for column in columnsToConvert:\n",
    "    df[column] = df[column].astype(str)\n",
    "    df[column] = df[column].str.replace(' ','')\n",
    "    df[column] = df[column].astype(int)"
   ]
  },
  {
   "cell_type": "markdown",
   "id": "f13c57aa",
   "metadata": {},
   "source": [
    "- <b>d) Create three new columns that each showing the ratio of each age group among the total population for each city. "
   ]
  },
  {
   "cell_type": "code",
   "execution_count": 62,
   "id": "d1265b4c",
   "metadata": {},
   "outputs": [
    {
     "data": {
      "text/html": [
       "<div>\n",
       "<style scoped>\n",
       "    .dataframe tbody tr th:only-of-type {\n",
       "        vertical-align: middle;\n",
       "    }\n",
       "\n",
       "    .dataframe tbody tr th {\n",
       "        vertical-align: top;\n",
       "    }\n",
       "\n",
       "    .dataframe thead th {\n",
       "        text-align: right;\n",
       "    }\n",
       "</style>\n",
       "<table border=\"1\" class=\"dataframe\">\n",
       "  <thead>\n",
       "    <tr style=\"text-align: right;\">\n",
       "      <th></th>\n",
       "      <th>City</th>\n",
       "      <th>Latitude</th>\n",
       "      <th>Longitude</th>\n",
       "      <th>Total_Population</th>\n",
       "      <th>0-14</th>\n",
       "      <th>15-65</th>\n",
       "      <th>65&lt;</th>\n",
       "      <th>Ratio:0-14</th>\n",
       "      <th>Ratio:15-65</th>\n",
       "      <th>Ratio:65&lt;</th>\n",
       "    </tr>\n",
       "  </thead>\n",
       "  <tbody>\n",
       "    <tr>\n",
       "      <th>0</th>\n",
       "      <td>ADANA</td>\n",
       "      <td>36.98451</td>\n",
       "      <td>35.33368</td>\n",
       "      <td>2274106</td>\n",
       "      <td>539247</td>\n",
       "      <td>1523411</td>\n",
       "      <td>211448</td>\n",
       "      <td>0.237125</td>\n",
       "      <td>0.669894</td>\n",
       "      <td>0.092981</td>\n",
       "    </tr>\n",
       "    <tr>\n",
       "      <th>1</th>\n",
       "      <td>ADIYAMAN</td>\n",
       "      <td>37.75545</td>\n",
       "      <td>38.27349</td>\n",
       "      <td>635169</td>\n",
       "      <td>177617</td>\n",
       "      <td>404271</td>\n",
       "      <td>53281</td>\n",
       "      <td>0.279637</td>\n",
       "      <td>0.636478</td>\n",
       "      <td>0.083885</td>\n",
       "    </tr>\n",
       "    <tr>\n",
       "      <th>2</th>\n",
       "      <td>AFYONKARAHİSAR</td>\n",
       "      <td>38.75812</td>\n",
       "      <td>30.53685</td>\n",
       "      <td>747555</td>\n",
       "      <td>155692</td>\n",
       "      <td>503604</td>\n",
       "      <td>88259</td>\n",
       "      <td>0.208268</td>\n",
       "      <td>0.673668</td>\n",
       "      <td>0.118064</td>\n",
       "    </tr>\n",
       "    <tr>\n",
       "      <th>3</th>\n",
       "      <td>AĞRI</td>\n",
       "      <td>39.71467</td>\n",
       "      <td>43.04015</td>\n",
       "      <td>510626</td>\n",
       "      <td>168409</td>\n",
       "      <td>314555</td>\n",
       "      <td>27662</td>\n",
       "      <td>0.329809</td>\n",
       "      <td>0.616018</td>\n",
       "      <td>0.054173</td>\n",
       "    </tr>\n",
       "    <tr>\n",
       "      <th>4</th>\n",
       "      <td>AMASYA</td>\n",
       "      <td>40.65157</td>\n",
       "      <td>35.82666</td>\n",
       "      <td>338267</td>\n",
       "      <td>59219</td>\n",
       "      <td>226126</td>\n",
       "      <td>52922</td>\n",
       "      <td>0.175066</td>\n",
       "      <td>0.668484</td>\n",
       "      <td>0.156450</td>\n",
       "    </tr>\n",
       "  </tbody>\n",
       "</table>\n",
       "</div>"
      ],
      "text/plain": [
       "             City  Latitude  Longitude  Total_Population    0-14    15-65   \n",
       "0           ADANA  36.98451   35.33368           2274106  539247  1523411  \\\n",
       "1        ADIYAMAN  37.75545   38.27349            635169  177617   404271   \n",
       "2  AFYONKARAHİSAR  38.75812   30.53685            747555  155692   503604   \n",
       "3            AĞRI  39.71467   43.04015            510626  168409   314555   \n",
       "4          AMASYA  40.65157   35.82666            338267   59219   226126   \n",
       "\n",
       "      65<  Ratio:0-14  Ratio:15-65  Ratio:65<  \n",
       "0  211448    0.237125     0.669894   0.092981  \n",
       "1   53281    0.279637     0.636478   0.083885  \n",
       "2   88259    0.208268     0.673668   0.118064  \n",
       "3   27662    0.329809     0.616018   0.054173  \n",
       "4   52922    0.175066     0.668484   0.156450  "
      ]
     },
     "execution_count": 62,
     "metadata": {},
     "output_type": "execute_result"
    }
   ],
   "source": [
    "# d) Write your code here\n",
    "df['Ratio:0-14'] = df['0-14']/df['Total_Population']\n",
    "df['Ratio:15-65'] = df['15-65']/df['Total_Population']\n",
    "df['Ratio:65<'] = df['65<']/df['Total_Population']"
   ]
  },
  {
   "cell_type": "markdown",
   "id": "36830275",
   "metadata": {},
   "source": [
    "- <b>e) Write down the code that outputs the cities for which the ratio of people over 65 is greater than 0-14 ratio age group."
   ]
  },
  {
   "cell_type": "code",
   "execution_count": 66,
   "id": "d9314fb9",
   "metadata": {},
   "outputs": [
    {
     "name": "stdout",
     "output_type": "stream",
     "text": [
      "ARTVİN\n",
      "ÇANAKKALE\n",
      "EDİRNE\n",
      "GİRESUN\n",
      "KASTAMONU\n",
      "KIRKLARELİ\n",
      "TUNCELİ\n",
      "BARTIN\n",
      "SİNOP\n",
      "BALIKESİR\n"
     ]
    }
   ],
   "source": [
    "# e) Write your code here \n",
    "for i in range(0,len(df)):\n",
    "    if df['Ratio:0-14'][i] < df['Ratio:65<'][i]:\n",
    "        print(df['City'][i])"
   ]
  },
  {
   "cell_type": "markdown",
   "id": "bc606fb3",
   "metadata": {},
   "source": [
    "- <b>f) Write the code that gives the first 5 cities with the highest ratio of young people in the total city population."
   ]
  },
  {
   "cell_type": "code",
   "execution_count": 70,
   "id": "91acd547",
   "metadata": {},
   "outputs": [
    {
     "data": {
      "text/plain": [
       "76     İSTANBUL\n",
       "5        ANKARA\n",
       "57    ŞANLIURFA\n",
       "77        İZMİR\n",
       "14        BURSA\n",
       "Name: City, dtype: object"
      ]
     },
     "execution_count": 70,
     "metadata": {},
     "output_type": "execute_result"
    }
   ],
   "source": [
    "# f) Write your code here\n",
    "df.sort_values(by='0-14', ascending=False).head(5)['City']"
   ]
  },
  {
   "cell_type": "markdown",
   "id": "16bfe8f0",
   "metadata": {},
   "source": [
    "- <b>g) Just write the code that only prints the infos of your city (MapRegion column from the excel).  "
   ]
  },
  {
   "cell_type": "code",
   "execution_count": 76,
   "id": "a024c90b",
   "metadata": {},
   "outputs": [
    {
     "data": {
      "text/html": [
       "<div>\n",
       "<style scoped>\n",
       "    .dataframe tbody tr th:only-of-type {\n",
       "        vertical-align: middle;\n",
       "    }\n",
       "\n",
       "    .dataframe tbody tr th {\n",
       "        vertical-align: top;\n",
       "    }\n",
       "\n",
       "    .dataframe thead th {\n",
       "        text-align: right;\n",
       "    }\n",
       "</style>\n",
       "<table border=\"1\" class=\"dataframe\">\n",
       "  <thead>\n",
       "    <tr style=\"text-align: right;\">\n",
       "      <th></th>\n",
       "      <th>City</th>\n",
       "      <th>Latitude</th>\n",
       "      <th>Longitude</th>\n",
       "      <th>Total_Population</th>\n",
       "      <th>0-14</th>\n",
       "      <th>15-65</th>\n",
       "      <th>65&lt;</th>\n",
       "      <th>Ratio:0-14</th>\n",
       "      <th>Ratio:15-65</th>\n",
       "      <th>Ratio:65&lt;</th>\n",
       "    </tr>\n",
       "  </thead>\n",
       "  <tbody>\n",
       "    <tr>\n",
       "      <th>23</th>\n",
       "      <td>ESKİŞEHİR</td>\n",
       "      <td>39.76853</td>\n",
       "      <td>30.49444</td>\n",
       "      <td>906617</td>\n",
       "      <td>157332</td>\n",
       "      <td>637164</td>\n",
       "      <td>112121</td>\n",
       "      <td>0.173537</td>\n",
       "      <td>0.702793</td>\n",
       "      <td>0.12367</td>\n",
       "    </tr>\n",
       "  </tbody>\n",
       "</table>\n",
       "</div>"
      ],
      "text/plain": [
       "         City  Latitude  Longitude  Total_Population    0-14   15-65     65<   \n",
       "23  ESKİŞEHİR  39.76853   30.49444            906617  157332  637164  112121  \\\n",
       "\n",
       "    Ratio:0-14  Ratio:15-65  Ratio:65<  \n",
       "23    0.173537     0.702793    0.12367  "
      ]
     },
     "execution_count": 76,
     "metadata": {},
     "output_type": "execute_result"
    }
   ],
   "source": [
    "# g) Write your code here\n",
    "df.loc[df['City'] == 'ESKİŞEHİR']"
   ]
  },
  {
   "attachments": {},
   "cell_type": "markdown",
   "id": "dbefd9c7",
   "metadata": {},
   "source": [
    "- <b>h1) Write a code that saves your city data (row) alone as one csv file."
   ]
  },
  {
   "cell_type": "code",
   "execution_count": 82,
   "id": "eb0917f0",
   "metadata": {},
   "outputs": [],
   "source": [
    "# h1) Write your code here\n",
    "myCity = df.loc[df['City'] == 'ESKİŞEHİR']\n",
    "myCity.to_csv(f\"Eskişehir.csv\", index=False, encoding='iso-8859-9')"
   ]
  }
 ],
 "metadata": {
  "kernelspec": {
   "display_name": "Python 3 (ipykernel)",
   "language": "python",
   "name": "python3"
  },
  "language_info": {
   "codemirror_mode": {
    "name": "ipython",
    "version": 3
   },
   "file_extension": ".py",
   "mimetype": "text/x-python",
   "name": "python",
   "nbconvert_exporter": "python",
   "pygments_lexer": "ipython3",
   "version": "3.8.0"
  }
 },
 "nbformat": 4,
 "nbformat_minor": 5
}
